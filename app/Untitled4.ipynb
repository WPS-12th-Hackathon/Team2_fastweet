{
 "cells": [
  {
   "cell_type": "code",
   "execution_count": 1,
   "metadata": {},
   "outputs": [],
   "source": [
    "user = User.objects.get(pk=1)"
   ]
  },
  {
   "cell_type": "code",
   "execution_count": 2,
   "metadata": {},
   "outputs": [
    {
     "data": {
      "text/plain": [
       "<User: 민지호>"
      ]
     },
     "execution_count": 2,
     "metadata": {},
     "output_type": "execute_result"
    }
   ],
   "source": [
    "user"
   ]
  },
  {
   "cell_type": "code",
   "execution_count": 4,
   "metadata": {},
   "outputs": [
    {
     "data": {
      "text/plain": [
       "1"
      ]
     },
     "execution_count": 4,
     "metadata": {},
     "output_type": "execute_result"
    }
   ],
   "source": [
    "user.following.all().count()"
   ]
  },
  {
   "cell_type": "code",
   "execution_count": 5,
   "metadata": {},
   "outputs": [
    {
     "data": {
      "text/plain": [
       "<User: 민지호>"
      ]
     },
     "execution_count": 5,
     "metadata": {},
     "output_type": "execute_result"
    }
   ],
   "source": [
    "User.objects.get(pk=1)"
   ]
  },
  {
   "cell_type": "code",
   "execution_count": 6,
   "metadata": {},
   "outputs": [
    {
     "data": {
      "text/plain": [
       "(7,\n",
       " {'members.User_groups': 0,\n",
       "  'members.User_user_permissions': 0,\n",
       "  'members.Relation': 2,\n",
       "  'threads.Thread_tags': 0,\n",
       "  'threads.Thread_threads': 2,\n",
       "  'threads.ThreadLike': 0,\n",
       "  'threads.Image': 1,\n",
       "  'admin.LogEntry': 0,\n",
       "  'threads.Thread': 1,\n",
       "  'members.User': 1})"
      ]
     },
     "execution_count": 6,
     "metadata": {},
     "output_type": "execute_result"
    }
   ],
   "source": [
    "User.objects.get(pk=1).delete()"
   ]
  },
  {
   "cell_type": "code",
   "execution_count": 7,
   "metadata": {},
   "outputs": [
    {
     "data": {
      "text/plain": [
       "(7,\n",
       " {'members.User_groups': 0,\n",
       "  'members.User_user_permissions': 0,\n",
       "  'members.Relation': 2,\n",
       "  'threads.Thread_tags': 0,\n",
       "  'threads.Thread_threads': 1,\n",
       "  'threads.ThreadLike': 1,\n",
       "  'threads.Image': 1,\n",
       "  'admin.LogEntry': 0,\n",
       "  'threads.Thread': 1,\n",
       "  'members.User': 1})"
      ]
     },
     "execution_count": 7,
     "metadata": {},
     "output_type": "execute_result"
    }
   ],
   "source": [
    "User.objects.get(pk=2).delete()"
   ]
  },
  {
   "cell_type": "code",
   "execution_count": 8,
   "metadata": {},
   "outputs": [
    {
     "data": {
      "text/plain": [
       "(4,\n",
       " {'members.User_groups': 0,\n",
       "  'members.User_user_permissions': 0,\n",
       "  'members.Relation': 0,\n",
       "  'threads.Thread_tags': 0,\n",
       "  'threads.Thread_threads': 0,\n",
       "  'threads.ThreadLike': 1,\n",
       "  'threads.Image': 1,\n",
       "  'admin.LogEntry': 0,\n",
       "  'threads.Thread': 1,\n",
       "  'members.User': 1})"
      ]
     },
     "execution_count": 8,
     "metadata": {},
     "output_type": "execute_result"
    }
   ],
   "source": [
    "User.objects.get(pk=3).delete()"
   ]
  },
  {
   "cell_type": "code",
   "execution_count": 9,
   "metadata": {},
   "outputs": [
    {
     "data": {
      "text/plain": [
       "(1,\n",
       " {'members.User_groups': 0,\n",
       "  'members.User_user_permissions': 0,\n",
       "  'members.Relation': 0,\n",
       "  'threads.ThreadLike': 0,\n",
       "  'admin.LogEntry': 0,\n",
       "  'members.User': 1})"
      ]
     },
     "execution_count": 9,
     "metadata": {},
     "output_type": "execute_result"
    }
   ],
   "source": [
    "User.objects.get(pk=5).delete()"
   ]
  },
  {
   "cell_type": "code",
   "execution_count": null,
   "metadata": {},
   "outputs": [],
   "source": []
  }
 ],
 "metadata": {
  "kernelspec": {
   "display_name": "Django Shell-Plus",
   "language": "python",
   "name": "django_extensions"
  },
  "language_info": {
   "codemirror_mode": {
    "name": "ipython",
    "version": 3
   },
   "file_extension": ".py",
   "mimetype": "text/x-python",
   "name": "python",
   "nbconvert_exporter": "python",
   "pygments_lexer": "ipython3",
   "version": "3.7.5"
  }
 },
 "nbformat": 4,
 "nbformat_minor": 2
}
